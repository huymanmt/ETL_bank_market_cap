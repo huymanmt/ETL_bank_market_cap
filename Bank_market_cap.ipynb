{
 "cells": [
  {
   "cell_type": "markdown",
   "id": "f1d20e3e",
   "metadata": {},
   "source": [
    "# Import any additional libraries"
   ]
  },
  {
   "cell_type": "code",
   "execution_count": 20,
   "id": "f1ab3a24",
   "metadata": {},
   "outputs": [],
   "source": [
    "import glob\n",
    "import pandas as pd\n",
    "from datetime import datetime"
   ]
  },
  {
   "cell_type": "markdown",
   "id": "9133bc4f",
   "metadata": {},
   "source": [
    "# Extract"
   ]
  },
  {
   "cell_type": "code",
   "execution_count": 21,
   "id": "4d4996c2",
   "metadata": {},
   "outputs": [],
   "source": [
    "#Json extract function\n",
    "def extract_from_json(file_to_process):\n",
    "    dataframe = pd.read_json(file_to_process)\n",
    "    return dataframe"
   ]
  },
  {
   "cell_type": "code",
   "execution_count": 22,
   "id": "2cfc65aa",
   "metadata": {},
   "outputs": [],
   "source": [
    "columns=['Name','Market Cap (US$ Billion)']\n",
    "def extract():\n",
    "    extracted_data = pd.DataFrame(columns=columns)\n",
    "    for jsonfile in glob.glob(\"*.json\"):\n",
    "        extracted_data = pd.concat([extracted_data, extract_from_json(jsonfile)], ignore_index=True)\n",
    "    return extracted_data"
   ]
  },
  {
   "cell_type": "code",
   "execution_count": 23,
   "id": "070f2ff4",
   "metadata": {},
   "outputs": [
    {
     "data": {
      "text/plain": [
       "0.7323984208000001"
      ]
     },
     "execution_count": 23,
     "metadata": {},
     "output_type": "execute_result"
    }
   ],
   "source": [
    "#Load exchange_rates.csv and find the exchange rate for GBP\n",
    "rates = pd.read_csv(\"exchange_rates.csv\", index_col=0) #read csv file into dataframe\n",
    "exchange_rate = rates.loc['GBP', 'Rates'] #store value of cell at row 'GBP' and column 'Rates'\n",
    "exchange_rate"
   ]
  },
  {
   "cell_type": "markdown",
   "id": "4a750d20",
   "metadata": {},
   "source": [
    "# Transform"
   ]
  },
  {
   "cell_type": "code",
   "execution_count": 62,
   "id": "28dbea93",
   "metadata": {},
   "outputs": [],
   "source": [
    "def transform(data, rate):\n",
    "    data['Market Cap (US$ Billion)'] = data['Market Cap (US$ Billion)'].astype(float)\n",
    "    #change Market Cap column from USD to GBP and round to 3 decimals\n",
    "    data['Market Cap (US$ Billion)'] = round(data['Market Cap (US$ Billion)'] * rate, 3)\n",
    "    #change column name to reflect change in currency\n",
    "    data.rename(columns={'Market Cap (US$ Billion)':'Market Cap (GBP Billion)'}, inplace = True)\n",
    "    return data"
   ]
  },
  {
   "cell_type": "markdown",
   "id": "61505df3",
   "metadata": {},
   "source": [
    "# Load"
   ]
  },
  {
   "cell_type": "code",
   "execution_count": 63,
   "id": "221512dd",
   "metadata": {},
   "outputs": [],
   "source": [
    "def load(data):\n",
    "    data.to_csv('bank_market_cap_gbp.csv', index=False)"
   ]
  },
  {
   "cell_type": "markdown",
   "id": "038d2eae",
   "metadata": {},
   "source": [
    "# Logging function"
   ]
  },
  {
   "cell_type": "code",
   "execution_count": 64,
   "id": "0dcf384c",
   "metadata": {},
   "outputs": [],
   "source": [
    "def log(message):\n",
    "    timestamp_format = '%Y-%h-%d-%H:%M:%S' # Year-Monthname-Day-Hour-Minute-Second\n",
    "    now = datetime.now() # get current timestamp\n",
    "    timestamp = now.strftime(timestamp_format)\n",
    "    with open(\"logfile.txt\",\"a\") as f:\n",
    "        f.write(timestamp + ':' + message + '\\n')"
   ]
  },
  {
   "cell_type": "markdown",
   "id": "1ecfbe60",
   "metadata": {},
   "source": [
    "# Running the ETL Process\n"
   ]
  },
  {
   "cell_type": "code",
   "execution_count": 65,
   "id": "ba43db2e",
   "metadata": {
    "scrolled": true
   },
   "outputs": [],
   "source": [
    "log(\"ETL Job Started\")\n",
    "log(\"Extract phase Started\")\n",
    "#Extract\n",
    "extracted_data = extract()\n",
    "extracted_data.head()\n",
    "log(\"Extract phase Ended\")\n",
    "\n",
    "#Transform\n",
    "log(\"Transform phase Started\")\n",
    "transform_data = transform(extracted_data, exchange_rate)\n",
    "transform_data.head()\n",
    "log(\"Transform phase Ended\")\n",
    "\n",
    "#Load\n",
    "log(\"Load phase Started\")\n",
    "load(transform_data)\n",
    "log(\"Load phase Ended\")"
   ]
  }
 ],
 "metadata": {
  "kernelspec": {
   "display_name": "Python 3 (ipykernel)",
   "language": "python",
   "name": "python3"
  },
  "language_info": {
   "codemirror_mode": {
    "name": "ipython",
    "version": 3
   },
   "file_extension": ".py",
   "mimetype": "text/x-python",
   "name": "python",
   "nbconvert_exporter": "python",
   "pygments_lexer": "ipython3",
   "version": "3.10.4"
  }
 },
 "nbformat": 4,
 "nbformat_minor": 5
}
